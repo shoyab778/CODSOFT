{
 "cells": [
  {
   "cell_type": "code",
   "execution_count": 1,
   "metadata": {},
   "outputs": [],
   "source": [
    "import pandas as pd\n",
    "import numpy as np\n",
    "\n",
    "from sklearn.ensemble import RandomForestRegressor\n",
    "from sklearn.preprocessing import MinMaxScaler, StandardScaler\n",
    "from sklearn.decomposition import PCA\n",
    "from sklearn.preprocessing import StandardScaler\n",
    "from sklearn.preprocessing import StandardScaler\n",
    "from sklearn.neural_network import MLPRegressor\n",
    "from sklearn.metrics import mean_squared_error\n",
    "from sklearn import tree\n",
    "from sklearn import svm\n",
    "from sklearn import neighbors\n",
    "from sklearn import linear_model\n",
    "from sklearn.model_selection import cross_val_score\n",
    "from sklearn.metrics import classification_report\n",
    "from sklearn.model_selection import train_test_split\n",
    "from sklearn.ensemble import RandomForestClassifier\n",
    "from sklearn.metrics import confusion_matrix, recall_score, precision_score, f1_score, accuracy_score\n",
    "from sklearn import metrics\n",
    "\n",
    "from matplotlib import pyplot as plt\n",
    "import plotly\n",
    "import plotly.graph_objects as go\n",
    "import plotly.express as px\n",
    "import plotly.io as pio\n",
    "import plotly.express as px\n",
    "\n",
    "import seaborn as sns\n",
    "import random"
   ]
  },
  {
   "cell_type": "code",
   "execution_count": 2,
   "metadata": {},
   "outputs": [],
   "source": [
    "df_train_original = pd.read_csv(r\"fraudTrain.csv\")\n",
    "\n",
    "df_train_original.drop(df_train_original.columns[0], axis=1, inplace=True)\n",
    "\n",
    "df_test_original = pd.read_csv(r\"fraudTest.csv\")\n",
    "\n",
    "df_test_original.drop(df_test_original.columns[0], axis=1, inplace=True)\n",
    "\n",
    "# In order to seperate test and training subsets later on in the notebook\n",
    "df_original = pd.concat([df_train_original,df_test_original], axis = 0)"
   ]
  },
  {
   "cell_type": "code",
   "execution_count": 3,
   "metadata": {},
   "outputs": [
    {
     "data": {
      "text/plain": [
       "(194501, 22)"
      ]
     },
     "execution_count": 3,
     "metadata": {},
     "output_type": "execute_result"
    }
   ],
   "source": [
    "# Define the proportion of the sample size we want\n",
    "sample_size = 0.15  \n",
    "\n",
    "# Performing stratified sampling\n",
    "df, _ = train_test_split(df_train_original, test_size=1-sample_size, stratify=df_train_original['is_fraud'], random_state=42)\n",
    "\n",
    "# Displaying the sampled DataFrame\n",
    "df.shape"
   ]
  },
  {
   "cell_type": "code",
   "execution_count": 4,
   "metadata": {},
   "outputs": [
    {
     "name": "stdout",
     "output_type": "stream",
     "text": [
      "(194501, 22)\n"
     ]
    },
    {
     "data": {
      "text/html": [
       "<div>\n",
       "<style scoped>\n",
       "    .dataframe tbody tr th:only-of-type {\n",
       "        vertical-align: middle;\n",
       "    }\n",
       "\n",
       "    .dataframe tbody tr th {\n",
       "        vertical-align: top;\n",
       "    }\n",
       "\n",
       "    .dataframe thead th {\n",
       "        text-align: right;\n",
       "    }\n",
       "</style>\n",
       "<table border=\"1\" class=\"dataframe\">\n",
       "  <thead>\n",
       "    <tr style=\"text-align: right;\">\n",
       "      <th></th>\n",
       "      <th>column</th>\n",
       "      <th>dtype</th>\n",
       "      <th>%_missing</th>\n",
       "      <th>nunique</th>\n",
       "    </tr>\n",
       "  </thead>\n",
       "  <tbody>\n",
       "    <tr>\n",
       "      <th>17</th>\n",
       "      <td>trans_num</td>\n",
       "      <td>object</td>\n",
       "      <td>0.0</td>\n",
       "      <td>194501</td>\n",
       "    </tr>\n",
       "    <tr>\n",
       "      <th>20</th>\n",
       "      <td>merch_long</td>\n",
       "      <td>float64</td>\n",
       "      <td>0.0</td>\n",
       "      <td>194042</td>\n",
       "    </tr>\n",
       "    <tr>\n",
       "      <th>18</th>\n",
       "      <td>unix_time</td>\n",
       "      <td>int64</td>\n",
       "      <td>0.0</td>\n",
       "      <td>194009</td>\n",
       "    </tr>\n",
       "    <tr>\n",
       "      <th>0</th>\n",
       "      <td>trans_date_trans_time</td>\n",
       "      <td>object</td>\n",
       "      <td>0.0</td>\n",
       "      <td>194008</td>\n",
       "    </tr>\n",
       "    <tr>\n",
       "      <th>19</th>\n",
       "      <td>merch_lat</td>\n",
       "      <td>float64</td>\n",
       "      <td>0.0</td>\n",
       "      <td>193373</td>\n",
       "    </tr>\n",
       "    <tr>\n",
       "      <th>4</th>\n",
       "      <td>amt</td>\n",
       "      <td>float64</td>\n",
       "      <td>0.0</td>\n",
       "      <td>26167</td>\n",
       "    </tr>\n",
       "    <tr>\n",
       "      <th>8</th>\n",
       "      <td>street</td>\n",
       "      <td>object</td>\n",
       "      <td>0.0</td>\n",
       "      <td>968</td>\n",
       "    </tr>\n",
       "    <tr>\n",
       "      <th>1</th>\n",
       "      <td>cc_num</td>\n",
       "      <td>int64</td>\n",
       "      <td>0.0</td>\n",
       "      <td>968</td>\n",
       "    </tr>\n",
       "    <tr>\n",
       "      <th>11</th>\n",
       "      <td>zip</td>\n",
       "      <td>int64</td>\n",
       "      <td>0.0</td>\n",
       "      <td>957</td>\n",
       "    </tr>\n",
       "    <tr>\n",
       "      <th>13</th>\n",
       "      <td>long</td>\n",
       "      <td>float64</td>\n",
       "      <td>0.0</td>\n",
       "      <td>956</td>\n",
       "    </tr>\n",
       "  </tbody>\n",
       "</table>\n",
       "</div>"
      ],
      "text/plain": [
       "                   column    dtype  %_missing  nunique\n",
       "17              trans_num   object        0.0   194501\n",
       "20             merch_long  float64        0.0   194042\n",
       "18              unix_time    int64        0.0   194009\n",
       "0   trans_date_trans_time   object        0.0   194008\n",
       "19              merch_lat  float64        0.0   193373\n",
       "4                     amt  float64        0.0    26167\n",
       "8                  street   object        0.0      968\n",
       "1                  cc_num    int64        0.0      968\n",
       "11                    zip    int64        0.0      957\n",
       "13                   long  float64        0.0      956"
      ]
     },
     "execution_count": 4,
     "metadata": {},
     "output_type": "execute_result"
    }
   ],
   "source": [
    "def df_explore(df):\n",
    "    missing = pd.DataFrame((df.isna().sum()/df.shape[0])*100).reset_index().rename(columns={'index': 'column',0:'%_missing'}).sort_values(by = '%_missing',ascending=False)\n",
    "    nunique = pd.DataFrame(df.nunique()).reset_index().rename(columns={'index': 'column',0:'nunique'}).sort_values(by = 'nunique',ascending=False)\n",
    "    dtypes = pd.DataFrame(df.dtypes).reset_index().rename(columns={'index': 'column',0:'dtype'})\n",
    "    return pd.merge(pd.merge(dtypes,missing,on='column'),nunique,on='column',how='left').sort_values(by='%_missing',ascending=False).sort_values(by = 'nunique', ascending = False)\n",
    "print(df.shape)\n",
    "\n",
    "df_explore(df).head(10)"
   ]
  },
  {
   "cell_type": "code",
   "execution_count": 5,
   "metadata": {},
   "outputs": [
    {
     "data": {
      "text/plain": [
       "Text(0.5, 1.0, '% of Fraudulent vs Non-fraudulent transactions')"
      ]
     },
     "execution_count": 5,
     "metadata": {},
     "output_type": "execute_result"
    },
    {
     "data": {
      "image/png": "[encoded data removed]",
      "text/plain": [
       "<Figure size 700x700 with 1 Axes>"
      ]
     },
     "metadata": {},
     "output_type": "display_data"
    }
   ],
   "source": [
    "df['is_fraud_cat'] = df['is_fraud'].apply(lambda x: \"Fraud\" if x==1 else \"No Fraud\")\n",
    "\n",
    "is_fraud_values = df['is_fraud_cat'].value_counts()\n",
    "\n",
    "plt.figure(figsize=(7,7))\n",
    "plt.pie(is_fraud_values, labels=is_fraud_values.index, autopct='%1.1f%%', startangle=90, colors=sns.color_palette(\"deep\", n_colors=len(is_fraud_values)))\n",
    "plt.title('% of Fraudulent vs Non-fraudulent transactions')"
   ]
  },
  {
   "cell_type": "code",
   "execution_count": 6,
   "metadata": {},
   "outputs": [
    {
     "data": {
      "image/png": "[encoded data removed]",
      "text/plain": [
       "<Figure size 640x480 with 1 Axes>"
      ]
     },
     "metadata": {},
     "output_type": "display_data"
    },
    {
     "data": {
      "text/plain": [
       "<Figure size 700x700 with 0 Axes>"
      ]
     },
     "metadata": {},
     "output_type": "display_data"
    }
   ],
   "source": [
    "sns.countplot(x=\"category\", data=df[df['is_fraud_cat']==\"Fraud\"], palette=\"Set2\", hue = 'category')\n",
    "\n",
    "plt.title('Instances of Fraud by Transaction Category')\n",
    "plt.xlabel('Transaction Category')\n",
    "plt.ylabel('Count of Fraud Instance')\n",
    "plt.xticks(rotation=45, ha = 'right')\n",
    "plt.figure(figsize=(7, 7))\n",
    "plt.show()"
   ]
  },
  {
   "cell_type": "code",
   "execution_count": 7,
   "metadata": {},
   "outputs": [
    {
     "data": {
      "image/png": "[encoded data removed]",
      "text/plain": [
       "<Figure size 640x480 with 1 Axes>"
      ]
     },
     "metadata": {},
     "output_type": "display_data"
    }
   ],
   "source": [
    "df[df['is_fraud_cat']==\"Fraud\"][\"job\"].value_counts(sort=True,ascending=False).head(10).plot(kind=\"bar\",x='job', y=df['is_fraud_cat']==\"Fraud\", color=['red', 'green', 'blue', 'orange', 'purple'])\n",
    "plt.title(\"Top of Credit Card Frauds by Job\")\n",
    "plt.show()"
   ]
  },
  {
   "cell_type": "code",
   "execution_count": 8,
   "metadata": {},
   "outputs": [
    {
     "name": "stdout",
     "output_type": "stream",
     "text": [
      "Duplicated values dropped\n"
     ]
    }
   ],
   "source": [
    "df2 = df.copy()\n",
    "\n",
    "df2.drop_duplicates(inplace=True)\n",
    "\n",
    "print(\"Duplicated values dropped\")"
   ]
  },
  {
   "cell_type": "code",
   "execution_count": 9,
   "metadata": {},
   "outputs": [],
   "source": [
    "def gender_transform(x):\n",
    "    if x=='F':\n",
    "        return 1\n",
    "    if x=='M':\n",
    "        return 0\n",
    "df2['gender'] = df2['gender'].transform(gender_transform)"
   ]
  },
  {
   "cell_type": "code",
   "execution_count": 10,
   "metadata": {},
   "outputs": [
    {
     "name": "stdout",
     "output_type": "stream",
     "text": [
      "(194501, 23)\n"
     ]
    },
    {
     "data": {
      "text/html": [
       "<div>\n",
       "<style scoped>\n",
       "    .dataframe tbody tr th:only-of-type {\n",
       "        vertical-align: middle;\n",
       "    }\n",
       "\n",
       "    .dataframe tbody tr th {\n",
       "        vertical-align: top;\n",
       "    }\n",
       "\n",
       "    .dataframe thead th {\n",
       "        text-align: right;\n",
       "    }\n",
       "</style>\n",
       "<table border=\"1\" class=\"dataframe\">\n",
       "  <thead>\n",
       "    <tr style=\"text-align: right;\">\n",
       "      <th></th>\n",
       "      <th>amt</th>\n",
       "      <th>gender</th>\n",
       "      <th>zip</th>\n",
       "      <th>lat</th>\n",
       "      <th>long</th>\n",
       "      <th>city_pop</th>\n",
       "      <th>merch_lat</th>\n",
       "      <th>merch_long</th>\n",
       "      <th>is_fraud</th>\n",
       "      <th>category_entertainment</th>\n",
       "      <th>...</th>\n",
       "      <th>category_grocery_pos</th>\n",
       "      <th>category_health_fitness</th>\n",
       "      <th>category_home</th>\n",
       "      <th>category_kids_pets</th>\n",
       "      <th>category_misc_net</th>\n",
       "      <th>category_misc_pos</th>\n",
       "      <th>category_personal_care</th>\n",
       "      <th>category_shopping_net</th>\n",
       "      <th>category_shopping_pos</th>\n",
       "      <th>category_travel</th>\n",
       "    </tr>\n",
       "  </thead>\n",
       "  <tbody>\n",
       "    <tr>\n",
       "      <th>398918</th>\n",
       "      <td>55.05</td>\n",
       "      <td>0</td>\n",
       "      <td>37849</td>\n",
       "      <td>36.0435</td>\n",
       "      <td>-84.0400</td>\n",
       "      <td>25459</td>\n",
       "      <td>36.175640</td>\n",
       "      <td>-84.646341</td>\n",
       "      <td>0</td>\n",
       "      <td>0</td>\n",
       "      <td>...</td>\n",
       "      <td>0</td>\n",
       "      <td>0</td>\n",
       "      <td>0</td>\n",
       "      <td>1</td>\n",
       "      <td>0</td>\n",
       "      <td>0</td>\n",
       "      <td>0</td>\n",
       "      <td>0</td>\n",
       "      <td>0</td>\n",
       "      <td>0</td>\n",
       "    </tr>\n",
       "    <tr>\n",
       "      <th>655541</th>\n",
       "      <td>3.03</td>\n",
       "      <td>0</td>\n",
       "      <td>7208</td>\n",
       "      <td>40.6747</td>\n",
       "      <td>-74.2239</td>\n",
       "      <td>124967</td>\n",
       "      <td>40.939505</td>\n",
       "      <td>-74.256242</td>\n",
       "      <td>0</td>\n",
       "      <td>0</td>\n",
       "      <td>...</td>\n",
       "      <td>0</td>\n",
       "      <td>0</td>\n",
       "      <td>0</td>\n",
       "      <td>0</td>\n",
       "      <td>0</td>\n",
       "      <td>1</td>\n",
       "      <td>0</td>\n",
       "      <td>0</td>\n",
       "      <td>0</td>\n",
       "      <td>0</td>\n",
       "    </tr>\n",
       "    <tr>\n",
       "      <th>911788</th>\n",
       "      <td>139.01</td>\n",
       "      <td>1</td>\n",
       "      <td>45342</td>\n",
       "      <td>39.6321</td>\n",
       "      <td>-84.2675</td>\n",
       "      <td>36784</td>\n",
       "      <td>39.822635</td>\n",
       "      <td>-84.105583</td>\n",
       "      <td>0</td>\n",
       "      <td>1</td>\n",
       "      <td>...</td>\n",
       "      <td>0</td>\n",
       "      <td>0</td>\n",
       "      <td>0</td>\n",
       "      <td>0</td>\n",
       "      <td>0</td>\n",
       "      <td>0</td>\n",
       "      <td>0</td>\n",
       "      <td>0</td>\n",
       "      <td>0</td>\n",
       "      <td>0</td>\n",
       "    </tr>\n",
       "    <tr>\n",
       "      <th>86389</th>\n",
       "      <td>55.74</td>\n",
       "      <td>1</td>\n",
       "      <td>29032</td>\n",
       "      <td>34.3424</td>\n",
       "      <td>-80.5000</td>\n",
       "      <td>4424</td>\n",
       "      <td>34.962050</td>\n",
       "      <td>-80.168628</td>\n",
       "      <td>0</td>\n",
       "      <td>0</td>\n",
       "      <td>...</td>\n",
       "      <td>0</td>\n",
       "      <td>0</td>\n",
       "      <td>0</td>\n",
       "      <td>0</td>\n",
       "      <td>0</td>\n",
       "      <td>0</td>\n",
       "      <td>0</td>\n",
       "      <td>0</td>\n",
       "      <td>0</td>\n",
       "      <td>0</td>\n",
       "    </tr>\n",
       "    <tr>\n",
       "      <th>289156</th>\n",
       "      <td>93.78</td>\n",
       "      <td>1</td>\n",
       "      <td>73559</td>\n",
       "      <td>34.7032</td>\n",
       "      <td>-98.9591</td>\n",
       "      <td>540</td>\n",
       "      <td>34.068722</td>\n",
       "      <td>-98.940711</td>\n",
       "      <td>0</td>\n",
       "      <td>0</td>\n",
       "      <td>...</td>\n",
       "      <td>1</td>\n",
       "      <td>0</td>\n",
       "      <td>0</td>\n",
       "      <td>0</td>\n",
       "      <td>0</td>\n",
       "      <td>0</td>\n",
       "      <td>0</td>\n",
       "      <td>0</td>\n",
       "      <td>0</td>\n",
       "      <td>0</td>\n",
       "    </tr>\n",
       "  </tbody>\n",
       "</table>\n",
       "<p>5 rows × 23 columns</p>\n",
       "</div>"
      ],
      "text/plain": [
       "           amt  gender    zip      lat     long  city_pop  merch_lat  \\\n",
       "398918   55.05       0  37849  36.0435 -84.0400     25459  36.175640   \n",
       "655541    3.03       0   7208  40.6747 -74.2239    124967  40.939505   \n",
       "911788  139.01       1  45342  39.6321 -84.2675     36784  39.822635   \n",
       "86389    55.74       1  29032  34.3424 -80.5000      4424  34.962050   \n",
       "289156   93.78       1  73559  34.7032 -98.9591       540  34.068722   \n",
       "\n",
       "        merch_long  is_fraud  category_entertainment  ...  \\\n",
       "398918  -84.646341         0                       0  ...   \n",
       "655541  -74.256242         0                       0  ...   \n",
       "911788  -84.105583         0                       1  ...   \n",
       "86389   -80.168628         0                       0  ...   \n",
       "289156  -98.940711         0                       0  ...   \n",
       "\n",
       "        category_grocery_pos  category_health_fitness  category_home  \\\n",
       "398918                     0                        0              0   \n",
       "655541                     0                        0              0   \n",
       "911788                     0                        0              0   \n",
       "86389                      0                        0              0   \n",
       "289156                     1                        0              0   \n",
       "\n",
       "        category_kids_pets  category_misc_net  category_misc_pos  \\\n",
       "398918                   1                  0                  0   \n",
       "655541                   0                  0                  1   \n",
       "911788                   0                  0                  0   \n",
       "86389                    0                  0                  0   \n",
       "289156                   0                  0                  0   \n",
       "\n",
       "        category_personal_care  category_shopping_net  category_shopping_pos  \\\n",
       "398918                       0                      0                      0   \n",
       "655541                       0                      0                      0   \n",
       "911788                       0                      0                      0   \n",
       "86389                        0                      0                      0   \n",
       "289156                       0                      0                      0   \n",
       "\n",
       "        category_travel  \n",
       "398918                0  \n",
       "655541                0  \n",
       "911788                0  \n",
       "86389                 0  \n",
       "289156                0  \n",
       "\n",
       "[5 rows x 23 columns]"
      ]
     },
     "execution_count": 10,
     "metadata": {},
     "output_type": "execute_result"
    }
   ],
   "source": [
    "df3 = df2.drop(['unix_time','trans_date_trans_time','cc_num','trans_num','street','dob','city','merchant','job','last','first','state','is_fraud_cat'],axis = 1)\n",
    "df3_dummies = pd.get_dummies(df3.select_dtypes('object'), dtype = int)\n",
    "\n",
    "df4 = pd.concat([df3.drop(df3.select_dtypes('object').columns, axis = 1), df3_dummies],axis = 1)\n",
    "\n",
    "print(df4.shape)\n",
    "df4.head()"
   ]
  },
  {
   "cell_type": "code",
   "execution_count": 11,
   "metadata": {},
   "outputs": [],
   "source": [
    "X = df4.reset_index(drop='index').drop('is_fraud', axis=1)\n",
    "\n",
    "y = df4.reset_index(drop='index')['is_fraud']\n",
    "\n",
    "X_train, X_test, y_train, y_test = train_test_split(X, y, stratify=y, test_size = 0.3, random_state = 42)"
   ]
  },
  {
   "cell_type": "code",
   "execution_count": 12,
   "metadata": {},
   "outputs": [],
   "source": [
    "def Standard_Scaler (df, col_names):\n",
    "\n",
    "    features = df[col_names]\n",
    "\n",
    "    scaler = StandardScaler().fit(features.values)\n",
    "\n",
    "    features = scaler.transform(features.values)\n",
    "\n",
    "    df[col_names] = features\n",
    "\n",
    "    return df\n",
    "\n",
    "col_names = ['amt']\n",
    "\n",
    "X_train = Standard_Scaler (X_train, col_names)\n",
    "\n",
    "X_test = Standard_Scaler (X_test, col_names)"
   ]
  },
  {
   "cell_type": "code",
   "execution_count": 13,
   "metadata": {},
   "outputs": [],
   "source": [
    "from sklearn.model_selection import StratifiedKFold\n",
    "from sklearn.ensemble import RandomForestClassifier\n",
    "\n",
    "rf = RandomForestClassifier(n_estimators=200)\n",
    "\n",
    "rf.fit(X_train, y_train)\n",
    "y_pred_baseline = rf.predict(X_test)"
   ]
  },
  {
   "cell_type": "code",
   "execution_count": 14,
   "metadata": {},
   "outputs": [
    {
     "name": "stdout",
     "output_type": "stream",
     "text": [
      "Performance with imbalanced dataset:\n",
      "              precision    recall  f1-score   support\n",
      "\n",
      "           0       1.00      1.00      1.00     58013\n",
      "           1       0.87      0.57      0.69       338\n",
      "\n",
      "    accuracy                           1.00     58351\n",
      "   macro avg       0.93      0.78      0.84     58351\n",
      "weighted avg       1.00      1.00      1.00     58351\n",
      "\n"
     ]
    }
   ],
   "source": [
    "print(\"Performance with imbalanced dataset:\")\n",
    "print(classification_report(y_test, y_pred_baseline))"
   ]
  },
  {
   "cell_type": "code",
   "execution_count": 15,
   "metadata": {},
   "outputs": [
    {
     "data": {
      "text/html": [
       "<div>\n",
       "<style scoped>\n",
       "    .dataframe tbody tr th:only-of-type {\n",
       "        vertical-align: middle;\n",
       "    }\n",
       "\n",
       "    .dataframe tbody tr th {\n",
       "        vertical-align: top;\n",
       "    }\n",
       "\n",
       "    .dataframe thead th {\n",
       "        text-align: right;\n",
       "    }\n",
       "</style>\n",
       "<table border=\"1\" class=\"dataframe\">\n",
       "  <thead>\n",
       "    <tr style=\"text-align: right;\">\n",
       "      <th></th>\n",
       "      <th>Random Forest performed with</th>\n",
       "      <th>Recall</th>\n",
       "      <th>Precision</th>\n",
       "      <th>F1 Score</th>\n",
       "      <th>Accuracy</th>\n",
       "    </tr>\n",
       "  </thead>\n",
       "  <tbody>\n",
       "    <tr>\n",
       "      <th>0</th>\n",
       "      <td>Original (Imbalanced Dataset)</td>\n",
       "      <td>0.568047</td>\n",
       "      <td>0.868778</td>\n",
       "      <td>0.686941</td>\n",
       "      <td>0.997001</td>\n",
       "    </tr>\n",
       "  </tbody>\n",
       "</table>\n",
       "</div>"
      ],
      "text/plain": [
       "    Random Forest performed with    Recall  Precision  F1 Score  Accuracy\n",
       "0  Original (Imbalanced Dataset)  0.568047   0.868778  0.686941  0.997001"
      ]
     },
     "execution_count": 15,
     "metadata": {},
     "output_type": "execute_result"
    }
   ],
   "source": [
    "cm = confusion_matrix(y_test, y_pred_baseline)\n",
    "\n",
    "rf_baseline_Recall = recall_score(y_test, y_pred_baseline)\n",
    "rf_baseline_Precision = precision_score(y_test, y_pred_baseline)\n",
    "rf_baseline_f1 = f1_score(y_test, y_pred_baseline)\n",
    "rf_baseline_accuracy = accuracy_score(y_test, y_pred_baseline)\n",
    "\n",
    "ndf = [(rf_baseline_Recall, rf_baseline_Precision, rf_baseline_f1, rf_baseline_accuracy)]\n",
    "\n",
    "rf_score = pd.DataFrame(data = ndf, columns=['Recall','Precision','F1 Score', 'Accuracy'])\n",
    "rf_score.insert(0, 'Random Forest performed with', 'Original (Imbalanced Dataset)')\n",
    "rf_score"
   ]
  },
  {
   "cell_type": "code",
   "execution_count": 16,
   "metadata": {},
   "outputs": [],
   "source": [
    "from imblearn.over_sampling import RandomOverSampler\n",
    "# defining oversampling method\n",
    "ros = RandomOverSampler(random_state=42)\n",
    "\n",
    "rf_oversample = RandomForestClassifier(n_estimators=200)\n",
    "X_train_oversample, y_train_oversample = ros.fit_resample(X_train, y_train)\n",
    "rf_oversample.fit(X_train_oversample, y_train_oversample)\n",
    "y_pred_oversample = rf_oversample.predict(X_test)"
   ]
  },
  {
   "cell_type": "code",
   "execution_count": 17,
   "metadata": {},
   "outputs": [
    {
     "name": "stdout",
     "output_type": "stream",
     "text": [
      "Performance with Random Oversampling:\n",
      "              precision    recall  f1-score   support\n",
      "\n",
      "           0       1.00      1.00      1.00     58013\n",
      "           1       0.78      0.63      0.70       338\n",
      "\n",
      "    accuracy                           1.00     58351\n",
      "   macro avg       0.89      0.81      0.85     58351\n",
      "weighted avg       1.00      1.00      1.00     58351\n",
      "\n"
     ]
    }
   ],
   "source": [
    "print(\"Performance with Random Oversampling:\")\n",
    "print(classification_report(y_test, y_pred_oversample))"
   ]
  },
  {
   "cell_type": "code",
   "execution_count": 18,
   "metadata": {},
   "outputs": [
    {
     "data": {
      "text/html": [
       "<div>\n",
       "<style scoped>\n",
       "    .dataframe tbody tr th:only-of-type {\n",
       "        vertical-align: middle;\n",
       "    }\n",
       "\n",
       "    .dataframe tbody tr th {\n",
       "        vertical-align: top;\n",
       "    }\n",
       "\n",
       "    .dataframe thead th {\n",
       "        text-align: right;\n",
       "    }\n",
       "</style>\n",
       "<table border=\"1\" class=\"dataframe\">\n",
       "  <thead>\n",
       "    <tr style=\"text-align: right;\">\n",
       "      <th></th>\n",
       "      <th>Random Forest performed with</th>\n",
       "      <th>Recall</th>\n",
       "      <th>Precision</th>\n",
       "      <th>F1 Score</th>\n",
       "      <th>Accuracy</th>\n",
       "    </tr>\n",
       "  </thead>\n",
       "  <tbody>\n",
       "    <tr>\n",
       "      <th>0</th>\n",
       "      <td>Random Oversampling</td>\n",
       "      <td>0.627219</td>\n",
       "      <td>0.782288</td>\n",
       "      <td>0.696223</td>\n",
       "      <td>0.99683</td>\n",
       "    </tr>\n",
       "  </tbody>\n",
       "</table>\n",
       "</div>"
      ],
      "text/plain": [
       "  Random Forest performed with    Recall  Precision  F1 Score  Accuracy\n",
       "0          Random Oversampling  0.627219   0.782288  0.696223   0.99683"
      ]
     },
     "execution_count": 18,
     "metadata": {},
     "output_type": "execute_result"
    }
   ],
   "source": [
    "cm = confusion_matrix(y_test, y_pred_oversample)\n",
    "\n",
    "oversample_rf_Recall = recall_score(y_test, y_pred_oversample)\n",
    "oversample_rf_Precision = precision_score(y_test, y_pred_oversample)\n",
    "oversample_rf_f1 = f1_score(y_test, y_pred_oversample)\n",
    "oversample_rf_accuracy = accuracy_score(y_test, y_pred_oversample)\n",
    "\n",
    "ndf_over = [(oversample_rf_Recall, oversample_rf_Precision, oversample_rf_f1, oversample_rf_accuracy)]\n",
    "\n",
    "oversample_rf_score = pd.DataFrame(data = ndf_over, columns=['Recall','Precision','F1 Score', 'Accuracy'])\n",
    "oversample_rf_score.insert(0, 'Random Forest performed with', 'Random Oversampling')\n",
    "oversample_rf_score"
   ]
  },
  {
   "cell_type": "code",
   "execution_count": 19,
   "metadata": {},
   "outputs": [],
   "source": [
    "from imblearn.under_sampling import RandomUnderSampler\n",
    "# defining oversampling method\n",
    "rus = RandomUnderSampler(random_state=42)\n",
    "\n",
    "rf_undersample = RandomForestClassifier(n_estimators=200)\n",
    "X_train_undersample, y_train_undersample = rus.fit_resample(X_train, y_train)\n",
    "rf_undersample.fit(X_train_undersample, y_train_undersample)\n",
    "y_pred_undersample = rf_undersample.predict(X_test)"
   ]
  },
  {
   "cell_type": "code",
   "execution_count": 20,
   "metadata": {},
   "outputs": [
    {
     "name": "stdout",
     "output_type": "stream",
     "text": [
      "Performance with Random Undersampling:\n",
      "              precision    recall  f1-score   support\n",
      "\n",
      "           0       1.00      0.96      0.98     58013\n",
      "           1       0.11      0.93      0.20       338\n",
      "\n",
      "    accuracy                           0.96     58351\n",
      "   macro avg       0.56      0.95      0.59     58351\n",
      "weighted avg       0.99      0.96      0.97     58351\n",
      "\n"
     ]
    }
   ],
   "source": [
    "print(\"Performance with Random Undersampling:\")\n",
    "print(classification_report(y_test, y_pred_undersample))"
   ]
  },
  {
   "cell_type": "code",
   "execution_count": 21,
   "metadata": {},
   "outputs": [
    {
     "data": {
      "text/html": [
       "<div>\n",
       "<style scoped>\n",
       "    .dataframe tbody tr th:only-of-type {\n",
       "        vertical-align: middle;\n",
       "    }\n",
       "\n",
       "    .dataframe tbody tr th {\n",
       "        vertical-align: top;\n",
       "    }\n",
       "\n",
       "    .dataframe thead th {\n",
       "        text-align: right;\n",
       "    }\n",
       "</style>\n",
       "<table border=\"1\" class=\"dataframe\">\n",
       "  <thead>\n",
       "    <tr style=\"text-align: right;\">\n",
       "      <th></th>\n",
       "      <th>Random Forest performed with</th>\n",
       "      <th>Recall</th>\n",
       "      <th>Precision</th>\n",
       "      <th>F1 Score</th>\n",
       "      <th>Accuracy</th>\n",
       "    </tr>\n",
       "  </thead>\n",
       "  <tbody>\n",
       "    <tr>\n",
       "      <th>0</th>\n",
       "      <td>Random Undersampling</td>\n",
       "      <td>0.934911</td>\n",
       "      <td>0.110838</td>\n",
       "      <td>0.198181</td>\n",
       "      <td>0.956179</td>\n",
       "    </tr>\n",
       "  </tbody>\n",
       "</table>\n",
       "</div>"
      ],
      "text/plain": [
       "  Random Forest performed with    Recall  Precision  F1 Score  Accuracy\n",
       "0         Random Undersampling  0.934911   0.110838  0.198181  0.956179"
      ]
     },
     "execution_count": 21,
     "metadata": {},
     "output_type": "execute_result"
    }
   ],
   "source": [
    "cm = confusion_matrix(y_test, y_pred_undersample)\n",
    "\n",
    "undersample_rf_Recall = recall_score(y_test, y_pred_undersample)\n",
    "undersample_rf_Precision = precision_score(y_test, y_pred_undersample)\n",
    "undersample_rf_f1 = f1_score(y_test, y_pred_undersample)\n",
    "undersample_rf_accuracy = accuracy_score(y_test, y_pred_undersample)\n",
    "\n",
    "ndf_over = [(undersample_rf_Recall, undersample_rf_Precision, undersample_rf_f1, undersample_rf_accuracy)]\n",
    "\n",
    "undersample_rf_score = pd.DataFrame(data = ndf_over, columns=['Recall','Precision','F1 Score', 'Accuracy'])\n",
    "undersample_rf_score.insert(0, 'Random Forest performed with', 'Random Undersampling')\n",
    "undersample_rf_score"
   ]
  },
  {
   "cell_type": "code",
   "execution_count": 22,
   "metadata": {},
   "outputs": [],
   "source": [
    "from imblearn.over_sampling import SMOTE\n",
    "\n",
    "smote = SMOTE(random_state=42)\n",
    "rf_smote = RandomForestClassifier(n_estimators=100, max_depth=5, random_state=1)\n",
    "X_train_smote, y_train_smote = smote.fit_resample(X_train, y_train)\n",
    "rf_smote.fit(X_train_smote,y_train_smote)\n",
    "y_pred_smote = rf_smote.predict(X_test)"
   ]
  },
  {
   "cell_type": "code",
   "execution_count": 23,
   "metadata": {},
   "outputs": [
    {
     "name": "stdout",
     "output_type": "stream",
     "text": [
      "Performance with SMOTE:\n",
      "              precision    recall  f1-score   support\n",
      "\n",
      "           0       1.00      0.96      0.98     58013\n",
      "           1       0.11      0.76      0.19       338\n",
      "\n",
      "    accuracy                           0.96     58351\n",
      "   macro avg       0.55      0.86      0.58     58351\n",
      "weighted avg       0.99      0.96      0.98     58351\n",
      "\n"
     ]
    }
   ],
   "source": [
    "print(\"Performance with SMOTE:\")\n",
    "print(classification_report(y_test, y_pred_smote))"
   ]
  },
  {
   "cell_type": "code",
   "execution_count": 24,
   "metadata": {},
   "outputs": [
    {
     "data": {
      "text/html": [
       "<div>\n",
       "<style scoped>\n",
       "    .dataframe tbody tr th:only-of-type {\n",
       "        vertical-align: middle;\n",
       "    }\n",
       "\n",
       "    .dataframe tbody tr th {\n",
       "        vertical-align: top;\n",
       "    }\n",
       "\n",
       "    .dataframe thead th {\n",
       "        text-align: right;\n",
       "    }\n",
       "</style>\n",
       "<table border=\"1\" class=\"dataframe\">\n",
       "  <thead>\n",
       "    <tr style=\"text-align: right;\">\n",
       "      <th></th>\n",
       "      <th>Random Forest performed with</th>\n",
       "      <th>Recall</th>\n",
       "      <th>Precision</th>\n",
       "      <th>F1 Score</th>\n",
       "      <th>Accuracy</th>\n",
       "    </tr>\n",
       "  </thead>\n",
       "  <tbody>\n",
       "    <tr>\n",
       "      <th>0</th>\n",
       "      <td>Smote Oversampling</td>\n",
       "      <td>0.763314</td>\n",
       "      <td>0.108085</td>\n",
       "      <td>0.189358</td>\n",
       "      <td>0.962143</td>\n",
       "    </tr>\n",
       "  </tbody>\n",
       "</table>\n",
       "</div>"
      ],
      "text/plain": [
       "  Random Forest performed with    Recall  Precision  F1 Score  Accuracy\n",
       "0           Smote Oversampling  0.763314   0.108085  0.189358  0.962143"
      ]
     },
     "execution_count": 24,
     "metadata": {},
     "output_type": "execute_result"
    }
   ],
   "source": [
    "cm_smote = confusion_matrix(y_test, y_pred_smote)\n",
    "rf_smote_Recall = recall_score(y_test, y_pred_smote)\n",
    "rf_smote_Precision = precision_score(y_test, y_pred_smote)\n",
    "rf_smote_f1 = f1_score(y_test, y_pred_smote)\n",
    "rf_smote_accuracy = accuracy_score(y_test, y_pred_smote)\n",
    "\n",
    "ndf = [(rf_smote_Recall, rf_smote_Precision, rf_smote_f1, rf_smote_accuracy)]\n",
    "\n",
    "rf_smote_score = pd.DataFrame(data = ndf, columns=['Recall','Precision','F1 Score', 'Accuracy'])\n",
    "rf_smote_score.insert(0, 'Random Forest performed with', 'Smote Oversampling')\n",
    "rf_smote_score"
   ]
  },
  {
   "cell_type": "code",
   "execution_count": 25,
   "metadata": {},
   "outputs": [],
   "source": [
    "from imblearn.combine import SMOTETomek\n",
    "from imblearn.under_sampling import TomekLinks\n",
    "SMOTETomek = SMOTETomek(tomek=TomekLinks(sampling_strategy='majority'))\n",
    "rf_SMOTETomek = RandomForestClassifier(n_estimators=200)\n",
    "X_train_SMOTETomek, y_train_SMOTETomek = SMOTETomek.fit_resample(X_train, y_train)\n",
    "rf_SMOTETomek.fit(X_train_SMOTETomek,y_train_SMOTETomek)\n",
    "y_pred_SMOTETomek = rf_SMOTETomek.predict(X_test)"
   ]
  },
  {
   "cell_type": "code",
   "execution_count": 26,
   "metadata": {},
   "outputs": [
    {
     "name": "stdout",
     "output_type": "stream",
     "text": [
      "Performance with SMOTE:\n",
      "              precision    recall  f1-score   support\n",
      "\n",
      "           0       1.00      1.00      1.00     58013\n",
      "           1       0.79      0.62      0.70       338\n",
      "\n",
      "    accuracy                           1.00     58351\n",
      "   macro avg       0.89      0.81      0.85     58351\n",
      "weighted avg       1.00      1.00      1.00     58351\n",
      "\n"
     ]
    }
   ],
   "source": [
    "print(\"Performance with SMOTE:\")\n",
    "print(classification_report(y_test, y_pred_SMOTETomek))"
   ]
  },
  {
   "cell_type": "code",
   "execution_count": 27,
   "metadata": {},
   "outputs": [
    {
     "data": {
      "text/html": [
       "<div>\n",
       "<style scoped>\n",
       "    .dataframe tbody tr th:only-of-type {\n",
       "        vertical-align: middle;\n",
       "    }\n",
       "\n",
       "    .dataframe tbody tr th {\n",
       "        vertical-align: top;\n",
       "    }\n",
       "\n",
       "    .dataframe thead th {\n",
       "        text-align: right;\n",
       "    }\n",
       "</style>\n",
       "<table border=\"1\" class=\"dataframe\">\n",
       "  <thead>\n",
       "    <tr style=\"text-align: right;\">\n",
       "      <th></th>\n",
       "      <th>Random Forest performed with</th>\n",
       "      <th>Recall</th>\n",
       "      <th>Precision</th>\n",
       "      <th>F1 Score</th>\n",
       "      <th>Accuracy</th>\n",
       "    </tr>\n",
       "  </thead>\n",
       "  <tbody>\n",
       "    <tr>\n",
       "      <th>0</th>\n",
       "      <td>SMOTE &amp; Tomek</td>\n",
       "      <td>0.621302</td>\n",
       "      <td>0.789474</td>\n",
       "      <td>0.695364</td>\n",
       "      <td>0.996847</td>\n",
       "    </tr>\n",
       "  </tbody>\n",
       "</table>\n",
       "</div>"
      ],
      "text/plain": [
       "  Random Forest performed with    Recall  Precision  F1 Score  Accuracy\n",
       "0                SMOTE & Tomek  0.621302   0.789474  0.695364  0.996847"
      ]
     },
     "execution_count": 27,
     "metadata": {},
     "output_type": "execute_result"
    }
   ],
   "source": [
    "cm_smote_tomek = confusion_matrix(y_test, y_pred_SMOTETomek)\n",
    "rf_smote_tomek_Recall = recall_score(y_test, y_pred_SMOTETomek)\n",
    "rf_smote_tomek_Precision = precision_score(y_test, y_pred_SMOTETomek)\n",
    "rf_smote_tomek_f1 = f1_score(y_test, y_pred_SMOTETomek)\n",
    "rf_smote_tomek_accuracy = accuracy_score(y_test, y_pred_SMOTETomek)\n",
    "\n",
    "ndf = [(rf_smote_tomek_Recall, rf_smote_tomek_Precision, rf_smote_tomek_f1, rf_smote_tomek_accuracy)]\n",
    "\n",
    "rf_smote_tomek_score = pd.DataFrame(data = ndf, columns=['Recall','Precision','F1 Score', 'Accuracy'])\n",
    "rf_smote_tomek_score.insert(0, 'Random Forest performed with', 'SMOTE & Tomek')\n",
    "rf_smote_tomek_score"
   ]
  },
  {
   "cell_type": "code",
   "execution_count": 28,
   "metadata": {},
   "outputs": [
    {
     "data": {
      "text/html": [
       "<div>\n",
       "<style scoped>\n",
       "    .dataframe tbody tr th:only-of-type {\n",
       "        vertical-align: middle;\n",
       "    }\n",
       "\n",
       "    .dataframe tbody tr th {\n",
       "        vertical-align: top;\n",
       "    }\n",
       "\n",
       "    .dataframe thead th {\n",
       "        text-align: right;\n",
       "    }\n",
       "</style>\n",
       "<table border=\"1\" class=\"dataframe\">\n",
       "  <thead>\n",
       "    <tr style=\"text-align: right;\">\n",
       "      <th></th>\n",
       "      <th>Random Forest performed with</th>\n",
       "      <th>Recall</th>\n",
       "      <th>Precision</th>\n",
       "      <th>F1 Score</th>\n",
       "      <th>Accuracy</th>\n",
       "    </tr>\n",
       "  </thead>\n",
       "  <tbody>\n",
       "    <tr>\n",
       "      <th>0</th>\n",
       "      <td>Original (Imbalanced Dataset)</td>\n",
       "      <td>0.568047</td>\n",
       "      <td>0.868778</td>\n",
       "      <td>0.686941</td>\n",
       "      <td>0.997001</td>\n",
       "    </tr>\n",
       "    <tr>\n",
       "      <th>0</th>\n",
       "      <td>Random Oversampling</td>\n",
       "      <td>0.627219</td>\n",
       "      <td>0.782288</td>\n",
       "      <td>0.696223</td>\n",
       "      <td>0.996830</td>\n",
       "    </tr>\n",
       "    <tr>\n",
       "      <th>0</th>\n",
       "      <td>Random Undersampling</td>\n",
       "      <td>0.934911</td>\n",
       "      <td>0.110838</td>\n",
       "      <td>0.198181</td>\n",
       "      <td>0.956179</td>\n",
       "    </tr>\n",
       "    <tr>\n",
       "      <th>0</th>\n",
       "      <td>Smote Oversampling</td>\n",
       "      <td>0.763314</td>\n",
       "      <td>0.108085</td>\n",
       "      <td>0.189358</td>\n",
       "      <td>0.962143</td>\n",
       "    </tr>\n",
       "    <tr>\n",
       "      <th>0</th>\n",
       "      <td>SMOTE &amp; Tomek</td>\n",
       "      <td>0.621302</td>\n",
       "      <td>0.789474</td>\n",
       "      <td>0.695364</td>\n",
       "      <td>0.996847</td>\n",
       "    </tr>\n",
       "  </tbody>\n",
       "</table>\n",
       "</div>"
      ],
      "text/plain": [
       "    Random Forest performed with    Recall  Precision  F1 Score  Accuracy\n",
       "0  Original (Imbalanced Dataset)  0.568047   0.868778  0.686941  0.997001\n",
       "0            Random Oversampling  0.627219   0.782288  0.696223  0.996830\n",
       "0           Random Undersampling  0.934911   0.110838  0.198181  0.956179\n",
       "0             Smote Oversampling  0.763314   0.108085  0.189358  0.962143\n",
       "0                  SMOTE & Tomek  0.621302   0.789474  0.695364  0.996847"
      ]
     },
     "execution_count": 28,
     "metadata": {},
     "output_type": "execute_result"
    }
   ],
   "source": [
    "rf_sampling_scores = pd.concat([rf_score, oversample_rf_score, undersample_rf_score,rf_smote_score, rf_smote_tomek_score],axis = 0)\n",
    "rf_sampling_scores"
   ]
  },
  {
   "cell_type": "code",
   "execution_count": 29,
   "metadata": {},
   "outputs": [
    {
     "name": "stdout",
     "output_type": "stream",
     "text": [
      "Model Accuracy: 95.62%\n"
     ]
    }
   ],
   "source": [
    "accuracy = accuracy_score(y_test, y_pred_undersample)\n",
    "print(f\"Model Accuracy: {accuracy * 100:.2f}%\")"
   ]
  },
  {
   "cell_type": "code",
   "execution_count": 30,
   "metadata": {},
   "outputs": [
    {
     "name": "stdout",
     "output_type": "stream",
     "text": [
      "Sample 1: True Class: No Fraud, Predicted Class: No Fraud\n",
      "Sample 2: True Class: No Fraud, Predicted Class: No Fraud\n",
      "Sample 3: True Class: No Fraud, Predicted Class: No Fraud\n",
      "Sample 4: True Class: No Fraud, Predicted Class: No Fraud\n",
      "Sample 5: True Class: No Fraud, Predicted Class: No Fraud\n",
      "Sample 6: True Class: No Fraud, Predicted Class: No Fraud\n",
      "Sample 7: True Class: No Fraud, Predicted Class: No Fraud\n",
      "Sample 8: True Class: No Fraud, Predicted Class: No Fraud\n",
      "Sample 9: True Class: No Fraud, Predicted Class: No Fraud\n",
      "Sample 10: True Class: No Fraud, Predicted Class: No Fraud\n",
      "Sample 11: True Class: No Fraud, Predicted Class: No Fraud\n",
      "Sample 12: True Class: No Fraud, Predicted Class: No Fraud\n",
      "Sample 13: True Class: No Fraud, Predicted Class: No Fraud\n",
      "Sample 14: True Class: No Fraud, Predicted Class: No Fraud\n",
      "Sample 15: True Class: No Fraud, Predicted Class: No Fraud\n",
      "Sample 16: True Class: No Fraud, Predicted Class: No Fraud\n",
      "Sample 17: True Class: No Fraud, Predicted Class: No Fraud\n",
      "Sample 18: True Class: No Fraud, Predicted Class: No Fraud\n",
      "Sample 19: True Class: No Fraud, Predicted Class: No Fraud\n",
      "Sample 20: True Class: No Fraud, Predicted Class: No Fraud\n"
     ]
    }
   ],
   "source": [
    "# remapping the classes \n",
    "class_names = {1:'Fraud',0:'No Fraud'}\n",
    "predicted_classes = [class_names[label] for label in y_pred_undersample]\n",
    "\n",
    "# Mapping true labels to custom class names\n",
    "class_map = [class_names[label] for label in y_test]\n",
    "\n",
    "# Step 10: Print the predicted and actual class names for the first 5 test samples\n",
    "for i in range(20):\n",
    "    print(f\"Sample {i+1}: True Class: {class_map[i]}, Predicted Class: {predicted_classes[i]}\")"
   ]
  }
 ],
 "metadata": {
  "kernelspec": {
   "display_name": ".venv",
   "language": "python",
   "name": "python3"
  },
  "language_info": {
   "codemirror_mode": {
    "name": "ipython",
    "version": 3
   },
   "file_extension": ".py",
   "mimetype": "text/x-python",
   "name": "python",
   "nbconvert_exporter": "python",
   "pygments_lexer": "ipython3",
   "version": "3.12.6"
  }
 },
 "nbformat": 4,
 "nbformat_minor": 2
}
